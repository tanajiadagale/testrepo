{
  "metadata": {
    "kernelspec": {
      "name": "python",
      "display_name": "Python (Pyodide)",
      "language": "python"
    },
    "language_info": {
      "codemirror_mode": {
        "name": "python",
        "version": 3
      },
      "file_extension": ".py",
      "mimetype": "text/x-python",
      "name": "python",
      "nbconvert_exporter": "python",
      "pygments_lexer": "ipython3",
      "version": "3.8"
    }
  },
  "nbformat_minor": 5,
  "nbformat": 4,
  "cells": [
    {
      "id": "ce195d6b-8df8-4500-a194-79b48c6a5fc6",
      "cell_type": "markdown",
      "source": "# Data Science Tools and Ecosystem",
      "metadata": {}
    },
    {
      "id": "4a43f7eb-c25f-47ee-8399-1e45764fe91f",
      "cell_type": "markdown",
      "source": "## In this notebook, Data Science Tools and Ecosystem are summarized.",
      "metadata": {}
    },
    {
      "id": "9f7c260b-1890-4049-a881-169e2c3e567a",
      "cell_type": "markdown",
      "source": "### **Objectives:**\n+ Python\n+ R\n+ Java\n+ Scala\n+ Julia\n+ SQL\n+ C/C++",
      "metadata": {}
    },
    {
      "id": "8d90fb04-631f-4b84-8805-b108ac876e7e",
      "cell_type": "markdown",
      "source": "### Some of the popular languages that Data Scientists use are:\n- Python\n- R\n- Java\n- Scala\n- Julia\n- c/c",
      "metadata": {}
    },
    {
      "id": "7f2d4ca1-3755-40e4-b7d4-cda9510535a0",
      "cell_type": "code",
      "source": "",
      "metadata": {
        "trusted": true
      },
      "outputs": [],
      "execution_count": null
    },
    {
      "id": "76282b7d-55ce-4053-aa5f-bfe3c2b31953",
      "cell_type": "markdown",
      "source": "### Some of the commonly used libraries used by Data Scientists include:\n* Matplotlib\n* Pandas\n* Numpy\n* Seaborn\n* Scikit-learn\n* TensorFlow\n* PyTorch",
      "metadata": {}
    },
    {
      "id": "5117b846-f248-45c7-a6f8-9ebd11aec6b4",
      "cell_type": "markdown",
      "source": "### Below are a few examples of evaluating arithmetic expressions in Python \n+ Addition.<br> \n2+3\n+ '-' Subtraction.<br> \n10-4\n+ '*' Multiplication.<br> \n3 * 4\n+ '/' Division.<br>  \n10/2",
      "metadata": {}
    },
    {
      "id": "e15da988-fc8f-4f51-9e7b-4bc73068d278",
      "cell_type": "markdown",
      "source": "| Data Science Tools |\n| -------------------|\nPython\nR\nMatplotlib\n\n",
      "metadata": {}
    },
    {
      "id": "4fa2ad31-c3a6-4f28-b037-2cc9f5f668d1",
      "cell_type": "code",
      "source": "# This is simple arithmetic expression to multiply then and integers\n(3*4)+5",
      "metadata": {
        "trusted": true
      },
      "outputs": [
        {
          "execution_count": 1,
          "output_type": "execute_result",
          "data": {
            "text/plain": "17"
          },
          "metadata": {}
        }
      ],
      "execution_count": 1
    },
    {
      "id": "7ae43543-3289-4504-abb7-f38dccf9a65e",
      "cell_type": "code",
      "source": "",
      "metadata": {
        "trusted": true
      },
      "outputs": [],
      "execution_count": null
    },
    {
      "id": "453ff76f-a955-4b4d-bbf7-77464d69fa7e",
      "cell_type": "code",
      "source": "200/60",
      "metadata": {
        "trusted": true
      },
      "outputs": [
        {
          "execution_count": 5,
          "output_type": "execute_result",
          "data": {
            "text/plain": "3.3333333333333335"
          },
          "metadata": {}
        }
      ],
      "execution_count": 5
    },
    {
      "id": "93f303c7-a061-425f-8e58-d3300a24d2cf",
      "cell_type": "code",
      "source": "",
      "metadata": {
        "trusted": true
      },
      "outputs": [],
      "execution_count": null
    },
    {
      "id": "fba2206a-ecaa-4b37-98c7-da970deaf552",
      "cell_type": "markdown",
      "source": "## Author\nName Tanaji Adagale",
      "metadata": {}
    },
    {
      "id": "75e3ae7c-e0a6-4fe5-876e-66eec5b598df",
      "cell_type": "code",
      "source": "",
      "metadata": {
        "trusted": true
      },
      "outputs": [],
      "execution_count": null
    }
  ]
}